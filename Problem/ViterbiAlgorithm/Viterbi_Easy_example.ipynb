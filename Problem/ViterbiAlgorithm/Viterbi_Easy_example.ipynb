{
 "cells": [
  {
   "cell_type": "code",
   "execution_count": 1,
   "metadata": {},
   "outputs": [],
   "source": [
    "def Viterbi(sentence,states,start_prob,transition_prob,emission_prob):\n",
    "    result_path = []\n",
    "    current_pro = {}\n",
    "    for s in states:\n",
    "        try:\n",
    "            current_pro[s] = start_prob[s]\n",
    "        except:\n",
    "            current_pro[s] = 0\n",
    "    for i in range(0, len(sentence)):\n",
    "        recent_pro = current_pro\n",
    "        current_pro = {}\n",
    "        for current_state in states:\n",
    "            maximum_pro = -1\n",
    "            result_state = None\n",
    "            for last_state in states:\n",
    "                recent = recent_pro[last_state]\n",
    "                transition = transition_prob[last_state][current_state]\n",
    "                emission = emission_prob[last_state][sentence[i]]\n",
    "                computation = recent * transition * emission\n",
    "                if maximum_pro<computation:\n",
    "                    maximum_pro = computation\n",
    "                    result_state = last_state\n",
    "                current_pro[current_state] = maximum_pro   \n",
    "        result_path.append(result_state)\n",
    "    optimal_path = ''\n",
    "    for i in range(0,len(result_path)):\n",
    "        if i == len(result_path)-1:\n",
    "            optimal_path+=result_path[i]\n",
    "        else:\n",
    "            optimal_path+=result_path[i]\n",
    "            optimal_path+=\" \"\n",
    "    return optimal_path"
   ]
  },
  {
   "cell_type": "code",
   "execution_count": 2,
   "metadata": {},
   "outputs": [],
   "source": [
    "states = [\"Sunny\",\"Rainy\"]\n",
    "start_prob = {'Sunny': 0.7, 'Rainy': 0.3}\n",
    "transition_prob = {\n",
    "    'Sunny' : {'Sunny': 0.2, 'Rainy': 0.7,\"End\" : 0.1},\n",
    "    'Rainy' :   {'Sunny': 0.7, 'Rainy': 0.2,\"End\" : 0.1},\n",
    "}\n",
    "emission_prob = {\n",
    "    'Sunny' : {'o': 0.4, 'x': 0.6},\n",
    "    'Rainy' : {'o': 0.3, 'x': 0.7},\n",
    "}   "
   ]
  },
  {
   "cell_type": "code",
   "execution_count": 3,
   "metadata": {},
   "outputs": [],
   "source": [
    "sentencee = \"oxx\" # 편의상 구름이 없으면 o, 구름이 있으면 x로 표현함.\n",
    "a = Viterbi(sentencee,states,start_prob,transition_prob,emission_prob)"
   ]
  },
  {
   "cell_type": "code",
   "execution_count": 4,
   "metadata": {},
   "outputs": [
    {
     "data": {
      "text/plain": [
       "'Sunny Rainy Sunny'"
      ]
     },
     "execution_count": 4,
     "metadata": {},
     "output_type": "execute_result"
    }
   ],
   "source": [
    "a"
   ]
  }
 ],
 "metadata": {
  "kernelspec": {
   "display_name": "Python 3",
   "language": "python",
   "name": "python3"
  },
  "language_info": {
   "codemirror_mode": {
    "name": "ipython",
    "version": 3
   },
   "file_extension": ".py",
   "mimetype": "text/x-python",
   "name": "python",
   "nbconvert_exporter": "python",
   "pygments_lexer": "ipython3",
   "version": "3.6.8"
  }
 },
 "nbformat": 4,
 "nbformat_minor": 2
}
