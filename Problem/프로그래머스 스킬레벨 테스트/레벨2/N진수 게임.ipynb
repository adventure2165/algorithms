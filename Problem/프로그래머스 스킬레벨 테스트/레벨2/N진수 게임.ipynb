{
 "cells": [
  {
   "cell_type": "markdown",
   "metadata": {},
   "source": [
    "# N진수 게임(https://programmers.co.kr/learn/courses/30/lessons/17687)"
   ]
  },
  {
   "cell_type": "code",
   "execution_count": null,
   "metadata": {},
   "outputs": [],
   "source": [
    "def solution(n, t, m, p):\n",
    "    answer = ''\n",
    "    number = 0\n",
    "    allnumber = \"0\"\n",
    "    multi = 1\n",
    "    while(number < m * t):\n",
    "        firstchr = \"\"\n",
    "        test = number\n",
    "        while(test != 0):\n",
    "            temp = test%n\n",
    "            if temp == 10:\n",
    "                temp = \"A\"\n",
    "            elif temp == 11:\n",
    "                temp = \"B\"\n",
    "            elif temp == 12:\n",
    "                temp = \"C\"\n",
    "            elif temp == 13:\n",
    "                temp = \"D\"\n",
    "            elif temp == 14:\n",
    "                temp = \"E\"\n",
    "            elif temp == 15:\n",
    "                temp = \"F\"\n",
    "            firstchr = str(temp) + firstchr\n",
    "            test = test // n\n",
    "        allnumber = allnumber + str(firstchr)\n",
    "        number +=1\n",
    "    for j in range(p-1,m*t,m):\n",
    "        answer = answer + allnumber[j]\n",
    "    return answer"
   ]
  },
  {
   "cell_type": "markdown",
   "metadata": {},
   "source": [
    "**Feedback**"
   ]
  },
  {
   "cell_type": "markdown",
   "metadata": {},
   "source": [
    "이 문제를 파악하는데는 전혀 어려움이 없었는데 너무 오랜 시간이 걸렸다. 그 원인을 짚어보자면\n",
    "\n",
    "1. 진법 변환을 짜기 귀찮아서 구현하려하지 않고 자꾸 이상한 꼼수를 쓰려했음. 맨 앞에것만 뽑아내려 했는데 그러다보니 헷갈려버림.\n",
    "\n",
    "2. 파라미터가 4개다보니 이를 사용하는데 헷갈려함.\n",
    "\n",
    "이렇다. \n",
    "\n",
    "2번이야 좀 그렇다 치더라도 1번이 매우 큰 문제다. 이를 필히 고쳐야 한다. **진법변환같은건 빠르게 짤줄 알아야 하며 꼭 필요한 것은 귀찮아 하지 말자!** \n",
    "\n",
    "이거 진짜 쉬운건데 55분이나 날려먹은 나 자신을 반성하자.\n",
    " \n",
    "이중포문을 지양은 해야하지만 너무 지양하진 말고 총 몇번 돌지 대충 계산해서 한 1만번정도면 그냥 사용해도 좋을 것 같다.\n",
    "\n",
    "하여튼 너무 복잡하게 생각하는것도 안좋은거 같다. 차분히 생각하면서 풀자."
   ]
  }
 ],
 "metadata": {
  "kernelspec": {
   "display_name": "Python 3",
   "language": "python",
   "name": "python3"
  },
  "language_info": {
   "codemirror_mode": {
    "name": "ipython",
    "version": 3
   },
   "file_extension": ".py",
   "mimetype": "text/x-python",
   "name": "python",
   "nbconvert_exporter": "python",
   "pygments_lexer": "ipython3",
   "version": "3.6.8"
  }
 },
 "nbformat": 4,
 "nbformat_minor": 2
}
