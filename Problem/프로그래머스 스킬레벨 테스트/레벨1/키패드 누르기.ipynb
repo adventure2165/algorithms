{
 "cells": [
  {
   "cell_type": "markdown",
   "metadata": {},
   "source": [
    "# 키패드 누르기(https://programmers.co.kr/learn/courses/30/lessons/67256)"
   ]
  },
  {
   "cell_type": "code",
   "execution_count": null,
   "metadata": {},
   "outputs": [],
   "source": [
    "def solution(numbers, hand):\n",
    "    keyboard = [\n",
    "        [\"1\",\"2\",\"3\"],\n",
    "        [\"4\",\"5\",\"6\"],\n",
    "        [\"7\",\"8\",\"9\"],\n",
    "        [\"*\",\"0\",\"#\"]\n",
    "    ]\n",
    "    answer = ''\n",
    "    leftposition = (3,0)\n",
    "    rightposition = (3,2)\n",
    "    for i in numbers:\n",
    "        if i == 1 or i == 4 or i == 7:\n",
    "            answer = answer + \"L\"\n",
    "            leftposition = (i//3,0)\n",
    "        elif i == 3 or i == 6 or i ==  9:\n",
    "            answer = answer + \"R\"\n",
    "            rightposition = (i//3 - 1,2)\n",
    "        else:\n",
    "            if(i == 0):\n",
    "                numberposition = (3,1)\n",
    "            else:\n",
    "                numberposition = (i//3,1)\n",
    "            leftdistance = abs(numberposition[0] - leftposition[0])  + abs(numberposition[1] - leftposition[1])\n",
    "            rightdistance = abs(numberposition[0] - rightposition[0])  + abs(numberposition[1] - rightposition[1])\n",
    "            if leftdistance > rightdistance:\n",
    "                answer = answer + \"R\"\n",
    "                rightposition = numberposition\n",
    "            elif leftdistance < rightdistance:\n",
    "                answer = answer + \"L\"\n",
    "                leftposition = numberposition\n",
    "            else:\n",
    "                if hand == \"left\":\n",
    "                    answer = answer + \"L\"\n",
    "                    leftposition = numberposition\n",
    "                else:\n",
    "                    answer = answer + \"R\"\n",
    "                    rightposition = numberposition\n",
    "    return answer"
   ]
  },
  {
   "cell_type": "markdown",
   "metadata": {},
   "source": [
    "**Feedback**"
   ]
  },
  {
   "cell_type": "markdown",
   "metadata": {},
   "source": [
    "이거 카카오 인턴때 풀었던 문제였고 그때 이문제는 쉽게 풀었다. IDE에 남아있던 그때 코드는 아래에 붙여놓았다.\n",
    "\n",
    "그때랑 지금의 차이점이 조금은 존재하는데 대부분은 비슷하다. 하지만 if를 아래것은 하나씩 일일히 다 했고\n",
    "\n",
    "이번에 새로푼건 if를 모아서 1,4,7/2,5,8,0/3,6,9 이렇게 나누고\n",
    "\n",
    "입력되는 숫자 i를 3으로 나눈 몫으로 위치를 구분하였다. 이때 1,4,7은 3으로 나누면 몫이 0,1,2가 되는데 3,6,9 는 1,2,3 이라 -1해줌.\n",
    "\n",
    "그리고 2,5,8은 3으로 나눈 몫이 0,1,2라 상관없는데 0은 3으로나눠도 0이라 2위치로 가버리니, 특별처리를 해서 위치를 잡아줌.\n",
    "\n",
    "그외엔 거리 그냥 구해서 풀었으니 더할 나위 없을듯.\n",
    "\n",
    "다만, 이번에 포지션 위치를 갱신해주어야 한다는 거 까먹고 실행한게 몇개 있으니 뭐... 이런거 실수하지 말자."
   ]
  },
  {
   "cell_type": "code",
   "execution_count": null,
   "metadata": {},
   "outputs": [],
   "source": [
    "def solution(numbers, hand):\n",
    "    lefthand = (3,0)\n",
    "    righthand = (3,2)\n",
    "    answer = ''\n",
    "    for i in numbers:\n",
    "        if i == 1 :\n",
    "            answer = answer + 'L'\n",
    "            lefthand = (0,0)\n",
    "        elif i == 4:\n",
    "            answer = answer + 'L'\n",
    "            lefthand = (1,0)\n",
    "        elif i == 7:\n",
    "            answer = answer + 'L'\n",
    "            lefthand = (2,0)\n",
    "        elif i == 3 :\n",
    "            answer = answer + 'R'\n",
    "            righthand = (0,2)\n",
    "        elif i == 6:\n",
    "            answer = answer + 'R'\n",
    "            righthand = (1,2)\n",
    "        elif i == 9:\n",
    "            answer = answer + 'R'\n",
    "            righthand = (2,2)\n",
    "        else:\n",
    "            if i == 2:\n",
    "                point = (0,1)\n",
    "            elif i == 5:\n",
    "                point = (1,1)\n",
    "            elif i == 8:\n",
    "                point = (2,1)\n",
    "            else:\n",
    "                point = (3,1)\n",
    "            leftDistance = abs(lefthand[0] - point[0]) + abs(lefthand[1] - point[1])\n",
    "            rightDistance = abs(righthand[0] - point[0]) + abs(righthand[1] - point[1])\n",
    "            if leftDistance > rightDistance :\n",
    "                answer = answer + 'R'\n",
    "                righthand = point\n",
    "            elif leftDistance < rightDistance:\n",
    "                answer = answer + 'L'\n",
    "                lefthand = point\n",
    "            else:\n",
    "                if hand == \"left\":\n",
    "                    answer = answer + 'L'\n",
    "                    lefthand = point\n",
    "                else:\n",
    "                    answer = answer + 'R'\n",
    "                    righthand = point   \n",
    "    return answer"
   ]
  }
 ],
 "metadata": {
  "kernelspec": {
   "display_name": "Python 3",
   "language": "python",
   "name": "python3"
  },
  "language_info": {
   "codemirror_mode": {
    "name": "ipython",
    "version": 3
   },
   "file_extension": ".py",
   "mimetype": "text/x-python",
   "name": "python",
   "nbconvert_exporter": "python",
   "pygments_lexer": "ipython3",
   "version": "3.6.8"
  }
 },
 "nbformat": 4,
 "nbformat_minor": 2
}
