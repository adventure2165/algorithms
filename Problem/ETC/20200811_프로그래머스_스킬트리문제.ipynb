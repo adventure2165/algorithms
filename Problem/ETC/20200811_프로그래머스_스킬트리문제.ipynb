{
 "cells": [
  {
   "cell_type": "markdown",
   "metadata": {},
   "source": [
    "# 스킬트리문제"
   ]
  },
  {
   "cell_type": "markdown",
   "metadata": {},
   "source": [
    "주소 : https://programmers.co.kr/learn/courses/30/lessons/49993?language=python3\n",
    "\n",
    "![1](./1.png)\n",
    "\n",
    "![](./2.png)"
   ]
  },
  {
   "cell_type": "code",
   "execution_count": 1,
   "metadata": {},
   "outputs": [],
   "source": [
    "def solution(skill, skill_trees):\n",
    "    answer = 0\n",
    "    for skills in skill_trees:\n",
    "        skill_list = list(skill)\n",
    "        for s in skills:\n",
    "            if s in skill:\n",
    "                if s != skill_list.pop(0):\n",
    "                    break\n",
    "        else:\n",
    "            answer += 1\n",
    "\n",
    "    return answer\n"
   ]
  },
  {
   "cell_type": "code",
   "execution_count": 2,
   "metadata": {},
   "outputs": [
    {
     "data": {
      "text/plain": [
       "2"
      ]
     },
     "execution_count": 2,
     "metadata": {},
     "output_type": "execute_result"
    }
   ],
   "source": [
    "solution(\"CBD\", [\"BACDE\",\"CBADF\", \"AECB\", \"BDA\"])"
   ]
  },
  {
   "cell_type": "markdown",
   "metadata": {},
   "source": [
    "Feedback"
   ]
  },
  {
   "cell_type": "markdown",
   "metadata": {},
   "source": [
    "상당히 간만에 코딩테스트 파이썬 문제를 풀었다. 요즘 자바스크립트만 하도 하다보니 파이썬이 살짝 어색했다. 매우 분노스러운 일이다.\n",
    "\n",
    "그외에 본 문제는 매우 쉬운 문젠데 자꾸 나는 이상하게 풀려 했다. 시도한 방법은 아래와 같다.\n",
    "\n",
    "1. Dictionary 사용하기 - C : B, B: D 이렇게 하려고 했다. 트리 느낌이니까. 그런데 이거 이렇게 하려니 재귀로 생각이 되어서 하다가 포기함. 다시 보니 근데 이거 이렇게 해도 별 문제가 없을 거 같긴한데 가져온 풀이가 더 깔끔하다.\n",
    "\n",
    "2. 정규식 쓰기 : 나름 성공할 뻔은 했다고 생각은 하나... C\\*+B\\*+D\\*+ 이렇게 하면, \\*+ 이것이 아무문자 여러개 포함 가능 이렇게 되니까 C - B - D 이렇게 중간에 뭐가 끼던 이렇게 순서를 지키면 OK되는건데... BACDE에서 CDE가 반환된다. B가 꼭 있어야 하는건데 이렇게 된다. 게다가 **C 다음 B가 유지되고, D는 그냥 아예 안나와도 되는건** 따로 정규식을 만들어 줘야 한다. 그래서 정규식 포기.\n",
    "\n",
    "3. ordered Dict 사용 - 1번이랑 별다른게 없었음\n",
    "\n",
    "그래서 오래 생각하고 싶진 않아서 그냥 정답을 받아왔다. 그런데 여기서 정답의 매우 좋은 기법을 확인할수 있다. for - else 구문이다.\n",
    "\n",
    "우선 저 알고리즘은 다음과 같다.\n",
    "\n",
    "1. 스킬순서는 리스트로 변환해서 사용.(skill_list)\n",
    "2. 스킬트리 문자열 하나 하나에 대해 포문 사용 -> 각 문자열의 문자 한개씩 보자.\n",
    "3. 만약 문자가 skill. 즉 스킬트리에 들어있다면? -> skill_list의 맨 앞을 pop해봐서 비교하자.\n",
    "4. 만일 C라면 일치하겠지. 그럼 상관없으니 통과\n",
    "5. 만일 C가 아닌 다른 놈이라면, 바로 break\n",
    "6. 만일 break가 발생시 else가 실행되어서 answer +=1 함.\n",
    "7. break발생 안하면 C -> B -> D가 차례로 나온 것이니까 OK.\n",
    "\n",
    "이렇게 된다. 여기서 **for을 break하면 else가 실행이 안된다. 하지만 제대로 실행되서 무사히 for문이 다 돌아서 종료되면 else가 실행되는것이다. While도 동일하게 사용 가능.** 이거 대충 알고있었는데 활용 잘해야 겠다.\n",
    "\n",
    "여기에 더불어서 except와 finally까지 있다는 것을 기억하자. except는 try랑 같이 사용된다. 아는데로 예외처리할때 except한다. try->except->else->는 else는 except가 발생 안했을 때 실행되고 finally는 마지막에 그냥 상관없이 끝에 실행된다.\n",
    "\n",
    "그런데 try에서 for문이 그냥 종료되면, 예외가 발생한게 아니니까 else가 실행된다. 인지해두자."
   ]
  }
 ],
 "metadata": {
  "kernelspec": {
   "display_name": "Python 3",
   "language": "python",
   "name": "python3"
  },
  "language_info": {
   "codemirror_mode": {
    "name": "ipython",
    "version": 3
   },
   "file_extension": ".py",
   "mimetype": "text/x-python",
   "name": "python",
   "nbconvert_exporter": "python",
   "pygments_lexer": "ipython3",
   "version": "3.6.8"
  }
 },
 "nbformat": 4,
 "nbformat_minor": 2
}
