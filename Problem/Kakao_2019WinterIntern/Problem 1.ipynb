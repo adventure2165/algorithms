{
 "cells": [
  {
   "cell_type": "markdown",
   "metadata": {},
   "source": [
    "문제 주소 : \n",
    "\n",
    "https://programmers.co.kr/learn/courses/30/lessons/64061?language=python3"
   ]
  },
  {
   "cell_type": "markdown",
   "metadata": {},
   "source": [
    "입력 예시"
   ]
  },
  {
   "cell_type": "code",
   "execution_count": 1,
   "metadata": {},
   "outputs": [],
   "source": [
    "board = [[0,0,0,0,0],[0,0,1,0,3],[0,2,5,0,1],[4,2,4,4,2],[3,5,1,3,1]]\n",
    "moves = [1,5,3,5,1,2,1,4]"
   ]
  },
  {
   "cell_type": "markdown",
   "metadata": {},
   "source": [
    "코드"
   ]
  },
  {
   "cell_type": "code",
   "execution_count": 2,
   "metadata": {},
   "outputs": [],
   "source": [
    "import collections\n",
    "def solution(board, moves):\n",
    "    stack = collections.deque()\n",
    "    count = 0\n",
    "    for i in moves:\n",
    "        top = -1\n",
    "        putNum = -1\n",
    "        for j in range(0,len(board[0])):\n",
    "            if board[j][i-1] != 0:\n",
    "                top = j\n",
    "                putNum = board[j][i-1]\n",
    "                board[j][i-1] = 0\n",
    "                break\n",
    "            else:\n",
    "                continue\n",
    "        if top == -1:\n",
    "            continue\n",
    "        \n",
    "        if len(stack) == 0:\n",
    "            stack.append(putNum)\n",
    "        else:\n",
    "            temp = stack.pop()\n",
    "            if temp == putNum:\n",
    "                count = count + 2\n",
    "            else:\n",
    "                stack.append(temp)\n",
    "                stack.append(putNum)\n",
    "    return count"
   ]
  },
  {
   "cell_type": "code",
   "execution_count": 3,
   "metadata": {},
   "outputs": [
    {
     "data": {
      "text/plain": [
       "4"
      ]
     },
     "execution_count": 3,
     "metadata": {},
     "output_type": "execute_result"
    }
   ],
   "source": [
    "solution(board,moves)"
   ]
  },
  {
   "cell_type": "markdown",
   "metadata": {},
   "source": [
    "Feedback"
   ]
  },
  {
   "cell_type": "markdown",
   "metadata": {},
   "source": [
    "자료구조 선정과 알고리즘 자체는 크게 문제 없었으나 자잘하게 빼먹은 것이 발목을 잡아 조금 오래 걸리게 됨.\n",
    "\n",
    "1. 숫자를 꺼내고 나서 그 부분은 0으로 바꿔서 숫자를 뺐다는 것을 표시해야 했는데 그것을 하지 아니함\n",
    "2. 숫자를 꺼내고 나면 더이상 검색할 거 없이 바로 스택에 넣었으면 되는데 그것을 하지 않아 중복되게 함.(break문을 빼먹음)\n",
    "3. 만일 숫자 꺼낼게 없으면 스택을 볼 필요 없이 넘어갔어야 했는데 그러지 않음.\n",
    "\n",
    "이러한 것에 대해 유의 많이 해야 할 것 같다. 세밀한 조건을 따질 것이 많다.\n",
    "\n",
    "collecton 쓸거 없이 그냥 다른거 써도 되는 것을 확인. 가능하면 쓰고 안되면 다른 방안을 생각해 두는 것이 좋을 것 같다.\n",
    "\n",
    "list에서 pop사용 가능하며, -1, -2와 같은 index 활용도 좋다."
   ]
  }
 ],
 "metadata": {
  "kernelspec": {
   "display_name": "Python 3",
   "language": "python",
   "name": "python3"
  },
  "language_info": {
   "codemirror_mode": {
    "name": "ipython",
    "version": 3
   },
   "file_extension": ".py",
   "mimetype": "text/x-python",
   "name": "python",
   "nbconvert_exporter": "python",
   "pygments_lexer": "ipython3",
   "version": "3.6.8"
  }
 },
 "nbformat": 4,
 "nbformat_minor": 2
}
