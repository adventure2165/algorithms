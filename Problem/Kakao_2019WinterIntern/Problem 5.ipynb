{
 "cells": [
  {
   "cell_type": "markdown",
   "metadata": {},
   "source": [
    "문제 주소:\n",
    "\n",
    "https://programmers.co.kr/learn/courses/30/lessons/64062"
   ]
  },
  {
   "cell_type": "markdown",
   "metadata": {},
   "source": [
    "입력 예시"
   ]
  },
  {
   "cell_type": "code",
   "execution_count": 31,
   "metadata": {},
   "outputs": [],
   "source": [
    "stones = [2, 4, 5, 3, 2, 1, 4, 2, 5, 1]\n",
    "k = 3"
   ]
  },
  {
   "cell_type": "markdown",
   "metadata": {},
   "source": [
    "기대값 : 3"
   ]
  },
  {
   "cell_type": "markdown",
   "metadata": {},
   "source": [
    "본 문제는 효율성을 따지는 문제이며 Jupyter 에서는 효율성따지는 기능은 없어서 필히 사이트에서 돌려봐야 함."
   ]
  },
  {
   "cell_type": "markdown",
   "metadata": {},
   "source": [
    "코드(정확성 1개 틀림, 1개 시간초과, 효율성 무시)"
   ]
  },
  {
   "cell_type": "code",
   "execution_count": 27,
   "metadata": {},
   "outputs": [],
   "source": [
    "import copy\n",
    "\n",
    "def check(stones, k):\n",
    "    temp_stones = copy.deepcopy(stones)\n",
    "    while 0 in temp_stones:\n",
    "        answer = True\n",
    "        temp = temp_stones.index(0)\n",
    "        if temp+k>=len(temp_stones):\n",
    "            temp_stones[temp] = -100\n",
    "            pass\n",
    "        else:\n",
    "            flag = False\n",
    "            slide_stones = temp_stones[temp + 1:temp + k]\n",
    "            for i in slide_stones:\n",
    "                if i>0:\n",
    "                    flag= True\n",
    "                else:\n",
    "                    continue\n",
    "            if flag == False:\n",
    "                answer = False\n",
    "                return answer\n",
    "            temp_stones[temp] = -100\n",
    "    return answer\n",
    "                \n",
    "\n",
    "def solution(stones, k):\n",
    "    answer = 0\n",
    "    value = True\n",
    "    while True:\n",
    "        if 0 in stones:\n",
    "            value = check(stones, k)\n",
    "            if value == False:\n",
    "                return answer\n",
    "            else:\n",
    "                pass\n",
    "        for i in range(len(stones)):\n",
    "            if stones[i] <= 0:\n",
    "                continue\n",
    "            else:\n",
    "                stones[i] -=1\n",
    "        answer+=1"
   ]
  },
  {
   "cell_type": "code",
   "execution_count": 28,
   "metadata": {},
   "outputs": [
    {
     "data": {
      "text/plain": [
       "3"
      ]
     },
     "execution_count": 28,
     "metadata": {},
     "output_type": "execute_result"
    }
   ],
   "source": [
    "solution(stones, k)"
   ]
  },
  {
   "cell_type": "markdown",
   "metadata": {},
   "source": [
    "인터넷 좋은 풀이"
   ]
  },
  {
   "cell_type": "code",
   "execution_count": 29,
   "metadata": {},
   "outputs": [],
   "source": [
    "def calc(stones, k, mid): # 건널 수 있는지를 체크 하는 것\n",
    "    now = 0 \n",
    "    for stone in stones:\n",
    "        if(stone < mid): # stone - mid 가 0이면 이번 회엔 건널 수 있다는 것임\n",
    "            now +=1  # 즉 stone < mid 이면 전 사람 건널 때 0이 되어서 못 건너게 됐다는 것.\n",
    "                    # 건너 뛰는 것 값을 + 1 해준다.\n",
    "        else:   # 연속으로 나온게 아니면 다시 0으로 만들어줌.\n",
    "            now = 0\n",
    "        if(now >= k): # now가 k랑 같거나 커지면 못 건너는 것.\n",
    "            return False\n",
    "    return True\n",
    "\n",
    "def solution(stones, k):\n",
    "    left = 1 # 최소 1명은 건널 수 있기 때문에 \n",
    "    right = max(stones) + 1 # 최고 값 + 1, 그래야 두개 더해서 // 할 때 내림을 하게 되기 때문에 제대로 됨.\n",
    "    while(left < right - 1): # 1차이 날 땐 더이상 가운데가 없기 때문에 left쪽이 답/ right에 넣는 mid는 불가능한 값으로 측정 되어있음\n",
    "        mid = (left + right) // 2 # 중간의 값 정수가 나오게\n",
    "        if(calc(stones, k, mid)): # mid가 가능한지 확인\n",
    "            left = mid \n",
    "        else:\n",
    "            right = mid\n",
    "    \n",
    "    return left"
   ]
  },
  {
   "cell_type": "code",
   "execution_count": 32,
   "metadata": {},
   "outputs": [
    {
     "data": {
      "text/plain": [
       "3"
      ]
     },
     "execution_count": 32,
     "metadata": {},
     "output_type": "execute_result"
    }
   ],
   "source": [
    "solution(stones, k)"
   ]
  },
  {
   "cell_type": "markdown",
   "metadata": {},
   "source": [
    "Feedback"
   ]
  },
  {
   "cell_type": "markdown",
   "metadata": {},
   "source": [
    "일단 정확성에서는 한개가 왜 틀렸는지는 모르겠는데... 다른 1개는 시간초과니까 이해. 현재 내가 첨 푼 풀이는\n",
    "\n",
    "1. 매회 1명씩 건널때 모든 징검다리를 1씩 줄인다 -> 언젠간 0이 등장할 것이다.\n",
    "2. 이때 0의 위치를 찾고, 0을 기준으로 인덱스 확보\n",
    "3. 그 인덱스를 이용해서 위치 + k까지 모두 0이면 못건넌다 아님 건널수 있다\n",
    "\n",
    "이렇게 했음. 접근 자체는 틀리지 않았다고 봄.\n",
    "\n",
    "하지만 이러니까 개판이 뜬 듯 하다.\n",
    "\n",
    "좋은 풀이는 일단 카카오 해설을 보면\n",
    "\n",
    "효율성 해설 : 다양한 풀이가 있을 수 있으며, 다음과 같은 방법을 통해 효율성 풀이를 통과할 수 있습니다.\n",
    "\n",
    "연속된 K개의 디딤돌에 적힌 숫자가 모두 0인 구간이 있으면 더 이상 징검다리를 건널 수 없으며, 이를 이용해 이분 탐색하면 문제를 해결할 수 있습니다. 먼저 M번째 친구가 징검다리를 건널 수 있는지 확인하기 위해 M – 1 번째 친구까지 징검다리를 건넌 상황을 구합니다. 이때, M – 1번째 친구까지는 K값에 관계없이 모두 징검다리를 건넜다고 가정합니다. 따라서, 징검다리에 적힌 숫자가 M보다 작다면 숫자가 0이 됐다고 표시해주면 됩니다. 이제 M번째 친구가 징검다리를 건널 수 있는지 확인하기 위해 징검다리에서 0이 연속으로 K개가 나오는 구간이 있는지 확인합니다.\n",
    "\n",
    "* 0이 연속으로 K개가 나오는 구간이 있는 경우 : M번째 친구는 징검다리를 건널 수 없습니다.\n",
    "* 또한, M번째 친구보다 뒤에 건너는 친구들은 모두 징검다리를 건널 수 없습니다.\n",
    "* 따라서 찾아야 하는 답은 0 이상 M – 1 이하인 정수 중 하나입니다.\n",
    "* 0이 연속으로 K개가 나오는 구간이 없는 경우 : M번째 친구는 징검다리를 건널 수 있습니다.\n",
    "* 이 경우 첫 번째 ~ M – 1 번째 친구들은 모두 정상적으로 징검다리를 건널 수 있습니다.\n",
    "* 따라서 찾아야 하는 답은 M 이상 MAX값 이하인 정수 중 하나입니다.\n",
    "\n",
    "답이 될 수 있는 최솟값과 최댓값의 중간값으로 M값을 계속 변경해 주면 효율적으로 탐색 범위를 줄여나갈 수 있습니다. 위 풀이의 경우 시간 복잡도는 O(nlogm)이 되며, n은 디딤돌의 개수, m은 디딤돌에 적힌 숫자의 최댓값입니다. 이 외에 O(n) 풀이 방법도 있으니 한 번 고민해보세요.\n",
    "\n",
    "그니까 0부터 한명씩 건너가게 하면서 세도 상관은 없다. 그런데 이는 너무 오래걸린다. 효율성이 망한다.\n",
    "\n",
    "그래서 최소 1명, 최대 Max값을 구해서 그 둘을 나눈 mid값을 구한다. 그리고 이를 테스트해보고, mid값에서 만일 건널수 있으면 left를 mid, 못건너면 right를 mid로 바꿔서 검색 범위를 줄이는 것이다. 즉, 예시는 최소 1, 최대 5로 되어 있다. 이때 1부터 5까지 다 세도 되지만, 1과 5에 +1을 해서 1+6 = 7 // 2 = 3 (//계산시 내림을 위해서라고 함. 아마 소숫값 처리를 위함인듯)으로 해서 3을 먼저 테스트 하자. 그때 되면 3부터 5 사이의 4를 테스트 해보고 되면 끝, 안되면 또 해보고 그러는 것이다. 그러면, 1부터 5까지 다해볼 필요 없이 3만 바로 테스트 할 수 있는 것이다.(예시가 답이 3이라)\n",
    "\n",
    "테스트는 내가 생각한 대로 0을 찾고 그 0이 연속된게 k보다 크면 못건넌다 그렇게 판단하면 된다. calc 함수가 그거다.\n",
    "\n",
    "짧게 요약하면\n",
    "\n",
    "1부터 계에속 세지 않고 이분탐색 써서 최대값 최소값 추정해서 검색 횟수를 줄인것이 핵심이다.\n",
    "\n",
    "이런 문제가 시뮬레이션인건 알겠는데 이분탐색을 써서 효율적으로 한거 자체가 정말 놀랍기 따름이다... 이런건 어떻게 생각하는지 잘 모르겠다."
   ]
  }
 ],
 "metadata": {
  "kernelspec": {
   "display_name": "Python 3",
   "language": "python",
   "name": "python3"
  },
  "language_info": {
   "codemirror_mode": {
    "name": "ipython",
    "version": 3
   },
   "file_extension": ".py",
   "mimetype": "text/x-python",
   "name": "python",
   "nbconvert_exporter": "python",
   "pygments_lexer": "ipython3",
   "version": "3.6.8"
  }
 },
 "nbformat": 4,
 "nbformat_minor": 2
}
