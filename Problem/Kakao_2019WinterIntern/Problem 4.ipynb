{
 "cells": [
  {
   "cell_type": "markdown",
   "metadata": {},
   "source": [
    "문제 주소:\n",
    "\n",
    "https://programmers.co.kr/learn/courses/30/lessons/64063"
   ]
  },
  {
   "cell_type": "markdown",
   "metadata": {},
   "source": [
    "입력 예시"
   ]
  },
  {
   "cell_type": "code",
   "execution_count": 2,
   "metadata": {},
   "outputs": [],
   "source": [
    "k = 10\n",
    "room_number = [1,3,4,1,3,1]"
   ]
  },
  {
   "cell_type": "markdown",
   "metadata": {},
   "source": [
    "기대값 : [1,3,4,2,5,6]"
   ]
  },
  {
   "cell_type": "markdown",
   "metadata": {},
   "source": [
    "본 문제는 효율성을 따지는 문제이며 Jupyter 에서는 효율성따지는 기능은 없어서 필히 사이트에서 돌려봐야 함."
   ]
  },
  {
   "cell_type": "markdown",
   "metadata": {},
   "source": [
    "코드(효율성 무시, 4분컷)"
   ]
  },
  {
   "cell_type": "code",
   "execution_count": 3,
   "metadata": {},
   "outputs": [],
   "source": [
    "def solution(k, room_number):\n",
    "    answer = []\n",
    "    rooms = [0 for x in range(0,k)]\n",
    "    for i in room_number:\n",
    "        if rooms[i-1] == 0:\n",
    "            rooms[i-1] = 1\n",
    "            answer.append(i)\n",
    "        else:\n",
    "            for j in range(i, k):\n",
    "                if rooms[j] == 0:\n",
    "                    rooms[j] = 1\n",
    "                    answer.append(j+1)\n",
    "                    break\n",
    "                else:\n",
    "                    continue\n",
    "    return answer"
   ]
  },
  {
   "cell_type": "code",
   "execution_count": 5,
   "metadata": {},
   "outputs": [
    {
     "data": {
      "text/plain": [
       "[1, 3, 4, 2, 5, 6]"
      ]
     },
     "execution_count": 5,
     "metadata": {},
     "output_type": "execute_result"
    }
   ],
   "source": [
    "solution(k, room_number)"
   ]
  },
  {
   "cell_type": "markdown",
   "metadata": {},
   "source": [
    "Internet검색 Ver"
   ]
  },
  {
   "cell_type": "code",
   "execution_count": 8,
   "metadata": {},
   "outputs": [],
   "source": [
    "import sys\n",
    "sys.setrecursionlimit(10000000) # 설정해주지 않으면 재귀가 많이 일어나면서 런타임에러 등이 나타날 수 있다.\n",
    "\n",
    "def find_empty_room(i, rooms):\n",
    "    if i not in rooms:\n",
    "        rooms[i] = i + 1\n",
    "        return i\n",
    "    p = find_empty_room(rooms[i], rooms)\n",
    "    rooms[i] = p + 1\n",
    "    return p\n",
    "\n",
    "def solution(k, room_number):\n",
    "    answer = []\n",
    "    rooms = dict()\n",
    "    for i in room_number:\n",
    "        temp = find_empty_room(i, rooms)\n",
    "        answer.append(temp)\n",
    "    return answer"
   ]
  },
  {
   "cell_type": "code",
   "execution_count": 9,
   "metadata": {},
   "outputs": [
    {
     "data": {
      "text/plain": [
       "[1, 3, 4, 2, 5, 6]"
      ]
     },
     "execution_count": 9,
     "metadata": {},
     "output_type": "execute_result"
    }
   ],
   "source": [
    "solution(k, room_number)"
   ]
  },
  {
   "cell_type": "markdown",
   "metadata": {},
   "source": [
    "프로그래머스 재귀 안쓴 버전"
   ]
  },
  {
   "cell_type": "code",
   "execution_count": 14,
   "metadata": {},
   "outputs": [],
   "source": [
    "def solution(k, room_number):\n",
    "    room_dic = {}\n",
    "    ret = []\n",
    "    for i in room_number:\n",
    "        n = i\n",
    "        visit = [n]\n",
    "        while n in room_dic:\n",
    "            n = room_dic[n]\n",
    "            visit.append(n)\n",
    "        ret.append(n)\n",
    "        for j in visit:\n",
    "            room_dic[j] = n+1\n",
    "    return ret\n"
   ]
  },
  {
   "cell_type": "code",
   "execution_count": 15,
   "metadata": {},
   "outputs": [
    {
     "data": {
      "text/plain": [
       "[1, 3, 4, 2, 5, 6]"
      ]
     },
     "execution_count": 15,
     "metadata": {},
     "output_type": "execute_result"
    }
   ],
   "source": [
    "solution(k, room_number)"
   ]
  },
  {
   "cell_type": "markdown",
   "metadata": {},
   "source": [
    "Feedback"
   ]
  },
  {
   "cell_type": "markdown",
   "metadata": {},
   "source": [
    "일단 정확성에서는 4분컷이 나왔을 정도로 단순하다. 하지만 효율성이 매우 오래 걸렸다. 정확성에서의 문제는 for을 두번 돌리는 거라 N^2번은 충분히 날 것이다...\n",
    "\n",
    "효율성의 풀이로는 해설에서 나온 것과 같이, Dictionary를 사용하여 이미 다녀간 곳은 다른데로 옮겨가도록 다음 노드의 정보를 추가하는 방법을 사용하였다.\n",
    "\n",
    "예시를 들어 1번이 나오면, 그 1번은 이제 Dictionary에 2번 값을 가지도록 하여 해당 값이 또나오면 자동적으로 2번을 바라보라고 하는 것이다. \n",
    "\n",
    "이를 이용하여 재귀로 푼 사람이 많다. 근데 굳이 재귀로 풀 필요 없이 재귀 안쓴버전의 풀이를 보면 visit에 처음 n을 넣고, visit을 for돌려서 만일 방문한 곳이면 그 다음 곳도 visit으로 넣고 그다음에 갈곳을 n+1해서 값에 넣는다. 아니면 바로 ret에 넣는다. 이런식으로 푼다.\n",
    "\n",
    "문제 자체는 쉬운데 효율성 따지니까 은근히 귀찮은거 같다. 풀고 다시 보니 이 문제도 그래프 문제로 생각할 요소가 많다.\n",
    "\n",
    "그리고 그래프 문제는 **Dictionary**로 풀면 매우 쉽고 빠르게 할 수 있다. key가 노드, 값이 다음 노드를 가리키는 값으로 하면 된다. 만일 이전값과 다음값을 필요로 하면 그 둘을 set이나 list로 묶으면 되니까."
   ]
  }
 ],
 "metadata": {
  "kernelspec": {
   "display_name": "Python 3",
   "language": "python",
   "name": "python3"
  },
  "language_info": {
   "codemirror_mode": {
    "name": "ipython",
    "version": 3
   },
   "file_extension": ".py",
   "mimetype": "text/x-python",
   "name": "python",
   "nbconvert_exporter": "python",
   "pygments_lexer": "ipython3",
   "version": "3.6.8"
  }
 },
 "nbformat": 4,
 "nbformat_minor": 2
}
