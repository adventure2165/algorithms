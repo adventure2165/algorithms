{
 "cells": [
  {
   "cell_type": "markdown",
   "metadata": {},
   "source": [
    "문제 주소:\n",
    "\n",
    "https://programmers.co.kr/learn/courses/30/lessons/64065"
   ]
  },
  {
   "cell_type": "markdown",
   "metadata": {},
   "source": [
    "입력 예시"
   ]
  },
  {
   "cell_type": "code",
   "execution_count": 2,
   "metadata": {},
   "outputs": [],
   "source": [
    "s = \"{{2},{2,1},{2,1,3},{2,1,3,4}}\""
   ]
  },
  {
   "cell_type": "markdown",
   "metadata": {},
   "source": [
    "유의 - 입력값이 문자열임. dictionary가 아님."
   ]
  },
  {
   "cell_type": "markdown",
   "metadata": {},
   "source": [
    "기대값 : [2, 1, 3, 4]"
   ]
  },
  {
   "cell_type": "markdown",
   "metadata": {},
   "source": [
    "코드"
   ]
  },
  {
   "cell_type": "code",
   "execution_count": 4,
   "metadata": {},
   "outputs": [],
   "source": [
    "def solution(s):\n",
    "    temp = s[1:-1]\n",
    "    temp = temp.split(\"},\")\n",
    "    tupleList = list()\n",
    "    answer = []\n",
    "    for i in range(len(temp)):\n",
    "        if i == len(temp)-1:\n",
    "            tempString = temp[i][1:-1].split(\",\")\n",
    "            tupleList.append(tempString)\n",
    "        else:\n",
    "            tempString = temp[i][1:].split(\",\")\n",
    "            tupleList.append(tempString)\n",
    "    length = 0\n",
    "    beforeAnswer = [-1 for x in range(len(tupleList))]\n",
    "    for i in tupleList:\n",
    "        beforeAnswer[len(i)-1] = i\n",
    "    for i in beforeAnswer:\n",
    "        if len(answer) == 0:\n",
    "            answer.append((i[0]))\n",
    "        else:\n",
    "            temp1 = set(answer)\n",
    "            temp2 = set(i)\n",
    "            minus = list(temp2-temp1)\n",
    "            answer.append(minus[0])\n",
    "    temp2 = []\n",
    "    for i in answer:\n",
    "        temp2.append(int(i))\n",
    "    answer = temp2\n",
    "    return answer"
   ]
  },
  {
   "cell_type": "code",
   "execution_count": 5,
   "metadata": {},
   "outputs": [
    {
     "data": {
      "text/plain": [
       "[2, 1, 3, 4]"
      ]
     },
     "execution_count": 5,
     "metadata": {},
     "output_type": "execute_result"
    }
   ],
   "source": [
    "solution(s)"
   ]
  },
  {
   "cell_type": "markdown",
   "metadata": {},
   "source": [
    "Feedback"
   ]
  },
  {
   "cell_type": "markdown",
   "metadata": {},
   "source": [
    "문제의 이해를 잘해야 하는 것 같다. 처음에는 이 문제가 어떻게 하라는 것인지 살짝 이해를 못했다. 어려운 코딩시험일수록 국어문제처럼 이해를 잘해야 한다는 말이 매우 공감되는 문제였다.\n",
    "\n",
    "또한 이 문제는 입력값이 String으로 주어져서 살짝 당황스러웠으나 이문제를 풀때는 잘 해결했다.\n",
    "\n",
    "지난번 문제 1풀때 index를 -1값 같은거 잘 사용해보자는 것은 잘 해냈다.\n",
    "\n",
    "이번에 나름 괜찮았던것은 beforeAnswer를 선언하여, 입력된 {}의 갯수만큼 -1을 만든 다음\n",
    "\n",
    "문제에서 입력값이 무조건 1개,2개,3개,4개...n개가 될 것임을 이용하여\n",
    "\n",
    "길이가 1이면 0번, 2이면 1번... 이렇게 바로바로 배치해서 길이의 순서대로 정렬한게 나쁘지 않은 발상이였던거 같다.\n",
    "\n",
    "이것도 문제 해석이 조금 오래걸려서 그렇지 Easy한 문제로 생각된다. 다만 중간에 좀 다른 할게 있어서 빨리 풀지는 못했다."
   ]
  }
 ],
 "metadata": {
  "kernelspec": {
   "display_name": "Python 3",
   "language": "python",
   "name": "python3"
  },
  "language_info": {
   "codemirror_mode": {
    "name": "ipython",
    "version": 3
   },
   "file_extension": ".py",
   "mimetype": "text/x-python",
   "name": "python",
   "nbconvert_exporter": "python",
   "pygments_lexer": "ipython3",
   "version": "3.6.8"
  }
 },
 "nbformat": 4,
 "nbformat_minor": 2
}
