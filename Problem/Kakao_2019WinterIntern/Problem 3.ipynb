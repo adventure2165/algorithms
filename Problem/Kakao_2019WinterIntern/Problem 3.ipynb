{
 "cells": [
  {
   "cell_type": "markdown",
   "metadata": {},
   "source": [
    "문제 주소:\n",
    "\n",
    "https://programmers.co.kr/learn/courses/30/lessons/64064"
   ]
  },
  {
   "cell_type": "markdown",
   "metadata": {},
   "source": [
    "입력 예시"
   ]
  },
  {
   "cell_type": "code",
   "execution_count": 11,
   "metadata": {},
   "outputs": [],
   "source": [
    "user_id = [\"frodo\", \"fradi\", \"crodo\", \"abc123\", \"frodoc\"]\n",
    "banned_id = [\"fr*d*\", \"abc1**\"]"
   ]
  },
  {
   "cell_type": "markdown",
   "metadata": {},
   "source": [
    "기대값 : \t2"
   ]
  },
  {
   "cell_type": "markdown",
   "metadata": {},
   "source": [
    "코드"
   ]
  },
  {
   "cell_type": "code",
   "execution_count": 5,
   "metadata": {},
   "outputs": [],
   "source": [
    "import re\n",
    "import copy\n",
    "def solution(user_id, banned_id):\n",
    "    possible = list()\n",
    "    for i in range(len(banned_id)):\n",
    "        possible.append([])\n",
    "    while(True):\n",
    "        flag = False\n",
    "        for idx, id in enumerate(banned_id):\n",
    "            available = False\n",
    "            id_string = id.replace(\"*\",\".\")\n",
    "            id_string = id_string+\"$\"\n",
    "            p = re.compile(id_string)\n",
    "            for user in user_id:\n",
    "                result = p.match(user)\n",
    "                if result != None and result.group() not in possible[idx]:\n",
    "                    available = True\n",
    "                    possible[idx].append(result.group())\n",
    "                    user_id.pop(user_id.index(result.group()))\n",
    "                    break\n",
    "            if available == True:\n",
    "                continue\n",
    "            else:\n",
    "                flag = True\n",
    "        if flag == True:\n",
    "            break\n",
    "    answer = 1\n",
    "    for i in possible:\n",
    "        answer = answer * len(i)\n",
    "    return answer"
   ]
  },
  {
   "cell_type": "code",
   "execution_count": 6,
   "metadata": {},
   "outputs": [
    {
     "data": {
      "text/plain": [
       "2"
      ]
     },
     "execution_count": 6,
     "metadata": {},
     "output_type": "execute_result"
    }
   ],
   "source": [
    "solution(user_id, banned_id)"
   ]
  },
  {
   "cell_type": "markdown",
   "metadata": {},
   "source": [
    "Feedback"
   ]
  },
  {
   "cell_type": "markdown",
   "metadata": {},
   "source": [
    "첫번째 실패임. 대략적으로 2시간 이상 걸렸기 때문에 포기하였음.\n",
    "\n",
    "원래 의도는\n",
    "\n",
    "1. 정규식을 이용한다 -> \" * \"에는 아무거나 들어가도 상관 없다는 것이기에 원래 정규식에는 반복까지 허가되는지라 \" . \"으로 변경하여 사용\n",
    "\n",
    "2. 정규식에 맞는 문자열 뒤에 더 붙는건 허가 안되고 딱 문자 갯수가 일치해야 하기 때문에 맨 뒤에 \"$\" 추가\n",
    "\n",
    "3. 각 정규식에 갯수에 맞게 리스트를 생성\n",
    "\n",
    "4. for문을 돌려서 각 주어진 정규식에 맞는 아이디들을 리스트에 모음. 아이디들을 추가할 경우 검색하는 user_id에서 해당 id를 제거하여 중복 제거함.\n",
    "\n",
    "5. 각 리스트에 모여진 경우의 수를 모두 곱하면 OK\n",
    "\n",
    "이렇게 풀었을 때 몇가지 경우가 안되는 문제가 있다. Case 3의 경우가 그 경우였는데, Frodo, Fradi, Crodo 이렇게 있을때 Frodo Crodo 이렇게 선택하면 모를까 Fradi Frodo, Fradi Crodo 이렇게 선택을 하는 경우가 있는데 위 경우에는 [fradi, frodo] ,[crodo] 이렇게 되어서 문제 발생하게 됨.\n",
    "\n",
    "이를 해결하려고 많은 시간을 들였으나 어쩔수 없이 지나친 시간이 들어서 해답을 보았음.\n",
    "\n",
    "일단 정규식 사용까지는 괜찮게 했다는데 의의가 있으나, 정규식사용법이 숙지가 안되 조금 오래 걸렸음\n",
    "\n",
    "그리고 결국 알고리즘 구상의 문제가 있었으니 이를 해결했어야 함."
   ]
  },
  {
   "cell_type": "markdown",
   "metadata": {},
   "source": [
    "다른 곳에서 가져온 제대로 된 풀이"
   ]
  },
  {
   "cell_type": "code",
   "execution_count": 31,
   "metadata": {},
   "outputs": [],
   "source": [
    "from itertools import product\n",
    "\n",
    "def check(str1, str2):\n",
    "    if len(str1) != len(str2):\n",
    "        return False\n",
    "    for i in range(len(str1)):\n",
    "        if str1[i] == \"*\":\n",
    "            continue\n",
    "        if str1[i] != str2[i]:\n",
    "            return False\n",
    "    return True\n",
    "\n",
    "def solution(user_id, banned_id):\n",
    "    answer = set()\n",
    "    result = [[] for i in range(len(banned_id))]\n",
    "\n",
    "    for i in range(len(banned_id)):\n",
    "        for u in user_id:\n",
    "            if check(banned_id[i], u):\n",
    "                result[i].append(u)\n",
    "    print(result)\n",
    "    print(\"------------------------\")\n",
    "    result = list(product(*result))\n",
    "    print(result)\n",
    "    for r in result:\n",
    "        if len(set(r)) == len(banned_id):\n",
    "            print(r)\n",
    "            answer.add(\"\".join(sorted(set(r))))\n",
    "    return len(answer)"
   ]
  },
  {
   "cell_type": "code",
   "execution_count": 32,
   "metadata": {},
   "outputs": [
    {
     "name": "stdout",
     "output_type": "stream",
     "text": [
      "[['frodo', 'fradi'], ['frodo', 'crodo'], ['abc123', 'frodoc'], ['abc123', 'frodoc']]\n",
      "------------------------\n",
      "[('frodo', 'frodo', 'abc123', 'abc123'), ('frodo', 'frodo', 'abc123', 'frodoc'), ('frodo', 'frodo', 'frodoc', 'abc123'), ('frodo', 'frodo', 'frodoc', 'frodoc'), ('frodo', 'crodo', 'abc123', 'abc123'), ('frodo', 'crodo', 'abc123', 'frodoc'), ('frodo', 'crodo', 'frodoc', 'abc123'), ('frodo', 'crodo', 'frodoc', 'frodoc'), ('fradi', 'frodo', 'abc123', 'abc123'), ('fradi', 'frodo', 'abc123', 'frodoc'), ('fradi', 'frodo', 'frodoc', 'abc123'), ('fradi', 'frodo', 'frodoc', 'frodoc'), ('fradi', 'crodo', 'abc123', 'abc123'), ('fradi', 'crodo', 'abc123', 'frodoc'), ('fradi', 'crodo', 'frodoc', 'abc123'), ('fradi', 'crodo', 'frodoc', 'frodoc')]\n",
      "('frodo', 'crodo', 'abc123', 'frodoc')\n",
      "('frodo', 'crodo', 'frodoc', 'abc123')\n",
      "('fradi', 'frodo', 'abc123', 'frodoc')\n",
      "('fradi', 'frodo', 'frodoc', 'abc123')\n",
      "('fradi', 'crodo', 'abc123', 'frodoc')\n",
      "('fradi', 'crodo', 'frodoc', 'abc123')\n"
     ]
    },
    {
     "data": {
      "text/plain": [
       "3"
      ]
     },
     "execution_count": 32,
     "metadata": {},
     "output_type": "execute_result"
    }
   ],
   "source": [
    "solution([\"frodo\", \"fradi\", \"crodo\", \"abc123\", \"frodoc\"], [\"fr*d*\", \"*rodo\", \"******\", \"******\"])"
   ]
  },
  {
   "cell_type": "markdown",
   "metadata": {},
   "source": [
    "본 풀이가 가장 나아보여서 가져옴. 본 풀이에서는 정규식을 사용 안함. 그냥 Check 함수를 선언하여 * 는 넘어가고 나머지 문자가 다르면 False아니면 True를 통해 결과에 추가. \n",
    "\n",
    "itertools의 product는 곱집합 -> abc와 xy를 곱하면 ax bx cx ay by cy 이렇게 반환함. \n",
    "\n",
    "product에 * result 이렇게 된 것은 가변인자로 result가 길이가 어떻게 될지 모르니까 이걸 이렇게 놓아서 한듯 함.\n",
    "\n",
    "product를 사용하여 기존 result에 곱인자들을 이용하여 모든 경우의 수를 구하였음. \n",
    "\n",
    "이후 각각의 경우들을 set을 통해 중복을 제거함. 중복요소를 제거하고 나면 모두 중복이 안되는 가능한 경우는 길이가 4(banned_id)의 길이 일 것이므로 이를 set에 추가한다. 이때 앞뒤로 같은 경우 아래와 같이\n",
    "(('frodo', 'crodo', 'abc123', 'frodoc')\n",
    "('frodo', 'crodo', 'frodoc', 'abc123'))\n",
    "똑같은 거니까 이를 없애기 위해서 모두 문자열로 정렬 후 붙여버리고 이를 set에 넣음으로 써 해결."
   ]
  },
  {
   "cell_type": "markdown",
   "metadata": {},
   "source": [
    "인상깊은곤 itertools 사용. 이것도 자세히 잘 보아야 할 것 같다. collections와 itertools, copy 매우 유용한 기초 라이브러리인거 같다.\n",
    "\n",
    "또한, 중복제거엔 역시 Set이다.\n",
    "\n",
    "이외에 정규식 쓴건 좋은데 너무 어렵게 생각했나... 싶기도 함. 정규식으로 중복을 미리 제거한것 때문에 예외처리가 안되었으니까... 단순히 좀 쉽게 가는 것이 좋을지도 모르겠다. 하지만 정규식 사용한 시도는 매우 좋게 생각함."
   ]
  }
 ],
 "metadata": {
  "kernelspec": {
   "display_name": "Python 3",
   "language": "python",
   "name": "python3"
  },
  "language_info": {
   "codemirror_mode": {
    "name": "ipython",
    "version": 3
   },
   "file_extension": ".py",
   "mimetype": "text/x-python",
   "name": "python",
   "nbconvert_exporter": "python",
   "pygments_lexer": "ipython3",
   "version": "3.6.8"
  }
 },
 "nbformat": 4,
 "nbformat_minor": 2
}
